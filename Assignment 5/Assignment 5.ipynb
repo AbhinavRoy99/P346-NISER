{
 "cells": [
  {
   "cell_type": "code",
   "execution_count": 1,
   "id": "fee3033d-a483-4c5c-81ec-84f119cb2e1b",
   "metadata": {},
   "outputs": [
    {
     "name": "stdout",
     "output_type": "stream",
     "text": [
      "\n",
      " ##### \n",
      "\n"
     ]
    }
   ],
   "source": [
    "import math\n",
    "import toolsar as ar\n",
    "\n",
    "import matplotlib.pyplot as plt\n",
    "%matplotlib inline\n",
    "\n",
    "ar.printhash()"
   ]
  },
  {
   "cell_type": "code",
   "execution_count": 2,
   "id": "daa95653-0d92-4543-a379-632ce598ec2c",
   "metadata": {},
   "outputs": [
    {
     "name": "stdout",
     "output_type": "stream",
     "text": [
      "Mid Point Int \n",
      "\n",
      "For N = 10 the integral of f1 is 3.6189788939398126\n",
      "For N = 20 the integral of f1 is 3.6198800323016473\n",
      "For N = 30 the integral of f1 is 3.62004881243588\n",
      "\n",
      " ##### \n",
      "\n",
      "Tz Int \n",
      "\n",
      "For N = 10 the integral of f1 is 3.622608380359955\n",
      "For N = 20 the integral of f1 is 3.620793637149884\n",
      "For N = 30 the integral of f1 is 3.6204553882819277\n",
      "\n",
      " ##### \n",
      "\n",
      "Simpson Int \n",
      "\n",
      "For N = 10 the integral of f1 is 4.139272591684762\n",
      "For N = 20 the integral of f1 is 3.7921133664087936\n",
      "For N = 30 the integral of f1 is 3.6761944283571815\n",
      "\n",
      " ##### \n",
      "\n"
     ]
    }
   ],
   "source": [
    "#Q1\n",
    "\n",
    "def f1(x):\n",
    "    y=math.sqrt(1+(1/x))\n",
    "    return y\n",
    "\n",
    "N=[10,20,30]\n",
    "\n",
    "print('Mid Point Int \\n')\n",
    "\n",
    "for i in range(0,len(N)):\n",
    "    z=0\n",
    "    z=ar.MidInt(1,4,N[i],f1)\n",
    "    print('For N =',N[i],'the integral of f1 is',z)\n",
    "\n",
    "ar.printhash()\n",
    "\n",
    "print('Tz Int \\n')\n",
    "\n",
    "for i in range(0,len(N)):\n",
    "    z=0\n",
    "    z=ar.TzInt(1,4,N[i],f1)\n",
    "    print('For N =',N[i],'the integral of f1 is',z)\n",
    "\n",
    "ar.printhash()\n",
    "\n",
    "print('Simpson Int \\n')\n",
    "\n",
    "for i in range(0,len(N)):\n",
    "    z=0\n",
    "    z=ar.SimpsonInt(1,4,N[i],f1)\n",
    "    print('For N =',N[i],'the integral of f1 is',z)\n",
    "\n",
    "ar.printhash()"
   ]
  },
  {
   "cell_type": "code",
   "execution_count": 3,
   "id": "c7577495-0a4c-49dc-9c19-105aebdfa765",
   "metadata": {},
   "outputs": [
    {
     "name": "stdout",
     "output_type": "stream",
     "text": [
      "Answer to integral by Monte Carlo method is: 0.5429233935135963\n"
     ]
    },
    {
     "data": {
      "text/plain": [
       "[<matplotlib.lines.Line2D at 0x2a56b7b71f0>]"
      ]
     },
     "execution_count": 3,
     "metadata": {},
     "output_type": "execute_result"
    },
    {
     "data": {
      "image/png": "[encoded data removed]",
      "text/plain": [
       "<Figure size 432x288 with 1 Axes>"
      ]
     },
     "metadata": {
      "needs_background": "light"
     },
     "output_type": "display_data"
    }
   ],
   "source": [
    "#Q2\n",
    "\n",
    "def f2(x):\n",
    "    y = (math.sin(x))**2\n",
    "    return y\n",
    "\n",
    "MC=[]\n",
    "NN=[]\n",
    "\n",
    "for i in range(1,100):\n",
    "    F=0\n",
    "    F = ar.MonteCarlo(f2,-1,1,i*5)\n",
    "    NN.append(i)\n",
    "    MC.append(F)\n",
    "\n",
    "print('Answer to integral by Monte Carlo method is:',F)\n",
    "plt.plot(NN,MC,'bo')"
   ]
  },
  {
   "cell_type": "code",
   "execution_count": 4,
   "id": "c4e847c2-b590-42eb-bfe3-a0f2b5638a24",
   "metadata": {},
   "outputs": [
    {
     "name": "stdout",
     "output_type": "stream",
     "text": [
      "Answer to integral of dm by Monte Carlo method is =\n",
      " 2.663746457038352\n",
      "Answer to integral of x.dm by Monte Carlo method is =\n",
      " 4.013784900571768\n",
      "COM of rod is at = int(x.dm)/int(dm) =\n",
      " 1.5068194234350805\n",
      "\n",
      " ##### \n",
      "\n"
     ]
    },
    {
     "data": {
      "text/plain": [
       "[<matplotlib.lines.Line2D at 0x2a56d8f48b0>]"
      ]
     },
     "execution_count": 4,
     "metadata": {},
     "output_type": "execute_result"
    },
    {
     "data": {
      "image/png": "[encoded data removed]",
      "text/plain": [
       "<Figure size 432x288 with 1 Axes>"
      ]
     },
     "metadata": {
      "needs_background": "light"
     },
     "output_type": "display_data"
    }
   ],
   "source": [
    "#Q3\n",
    "\n",
    "l0 = 0\n",
    "l1 = 2\n",
    "\n",
    "def dm(l):\n",
    "    y = l**2\n",
    "    return y\n",
    "\n",
    "def xdm(l):\n",
    "    y = l**3\n",
    "    return y\n",
    "\n",
    "MC1=[]\n",
    "MC2=[]\n",
    "NN1=[]\n",
    "\n",
    "for i in range(1,100):\n",
    "    F1=0\n",
    "    F1 = ar.MonteCarlo(dm,l0,l1,i*5)\n",
    "    F2=0\n",
    "    F2 = ar.MonteCarlo(xdm,l0,l1,i*5)\n",
    "    NN1.append(i)\n",
    "    MC1.append(F1)\n",
    "    MC2.append(F2)\n",
    "\n",
    "print('Answer to integral of dm by Monte Carlo method is =\\n',F1)\n",
    "print('Answer to integral of x.dm by Monte Carlo method is =\\n',F2)\n",
    "print('COM of rod is at = int(x.dm)/int(dm) =\\n',F2/F1)\n",
    "ar.printhash()\n",
    "plt.plot(NN1,MC1,'bo')\n",
    "plt.plot(NN1,MC2,'ro')"
   ]
  }
 ],
 "metadata": {
  "kernelspec": {
   "display_name": "Python 3 (ipykernel)",
   "language": "python",
   "name": "python3"
  },
  "language_info": {
   "codemirror_mode": {
    "name": "ipython",
    "version": 3
   },
   "file_extension": ".py",
   "mimetype": "text/x-python",
   "name": "python",
   "nbconvert_exporter": "python",
   "pygments_lexer": "ipython3",
   "version": "3.10.6"
  }
 },
 "nbformat": 4,
 "nbformat_minor": 5
}
