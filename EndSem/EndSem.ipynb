{
 "cells": [
  {
   "cell_type": "code",
   "execution_count": 1,
   "id": "6514e54e",
   "metadata": {},
   "outputs": [
    {
     "name": "stdout",
     "output_type": "stream",
     "text": [
      "\n",
      " ##### \n",
      "\n"
     ]
    }
   ],
   "source": [
    "import math\n",
    "import toolsar as ar\n",
    "import matplotlib.pyplot as plt\n",
    "from mpl_toolkits import mplot3d\n",
    "\n",
    "ar.printhash()"
   ]
  },
  {
   "cell_type": "code",
   "execution_count": 48,
   "id": "296bd57d",
   "metadata": {
    "scrolled": false
   },
   "outputs": [
    {
     "name": "stdout",
     "output_type": "stream",
     "text": [
      "\n",
      " The lower triangle matrix is: \n",
      "\n",
      "[1.0, 0, 0, 0, 0]\n",
      "[-0.40613718411552346, 1.0, 0, 0, 0]\n",
      "[1.0415162454873648, -0.3918074036165131, 1.0, 0, 0]\n",
      "[0.30685920577617326, -0.09558171272603205, 0.31645373414386846, 1.0, 0]\n",
      "[0.27075812274368233, 0.4567852268850222, 0.733405127147915, 0.14926525472335012, 1.0]\n",
      "\n",
      " The upper triangle matrix is: \n",
      "\n",
      "[5.54, 0.32000000000000006, -45.6, 18.919999999999998, 2.220446049250313e-16]\n",
      "[0, 16.929963898916967, -44.41985559566787, 27.404115523465705, -4.7]\n",
      "[0, 0, 68.08911250426476, -25.88835201296486, 7.458505203002387]\n",
      "[0, 0, 0, 11.96602178952336, -0.5695058724339281]\n",
      "[0, 0, 0, 0, 0.061792048733547045]\n",
      "\n",
      " ##### \n",
      "\n",
      "[678.3060661142608, -2652.3283652574005, -2478.867077733553, -467.6681210530995, 3582.3629441404755]\n",
      "[957.9416934954855, -3746.5590153483113, -3501.3513372062544, -661.5354491268755, 5060.435141798058]\n",
      "[22.317474740387254, -87.28712127415116, -81.56691623250197, -15.43435528729957, 117.89645181424011]\n",
      "[1.744711709514001, -6.8216427025598705, -6.350521911339088, -1.292131941181852, 9.216491184645609]\n",
      "[3.0619106930571944, -11.97400947682987, -11.10449635472682, -2.4156061788304757, 16.183311938920998]\n"
     ]
    }
   ],
   "source": [
    "#Q1\n",
    "\n",
    "#matrix A\n",
    "A=[[0.2,-5,3,0.4,0],[-0.5,1,7,-2,0.3],[0.6,2,-4,3,0.1],[3,0.8,2,-0.4,3],[0.5,3,2,0.4,1]]\n",
    "\n",
    "matI=[]\n",
    "for i in range(len(A)):\n",
    "    matI.append([0,0,0,0,0])\n",
    "    matI[i][i]=1\n",
    "\n",
    "L,U = ar.LUdecomposition(A,A)\n",
    "\n",
    "ar.printhash()  \n",
    "\n",
    "def InvUpper(U):\n",
    "    A=U\n",
    "    n=len(A)\n",
    "    matI=[]\n",
    "    for i in range(len(A)):\n",
    "        matI.append([0,0,0,0,0])\n",
    "        matI[i][i]=1\n",
    "    #print(matI)\n",
    "        \n",
    "    for i in range(1,n+1):\n",
    "        for j in range(0,n):\n",
    "            matI[n-i][j] = matI[n-i][j]/A[n-i][n-i]\n",
    "            A[n-i][j]=A[n-i][j]/A[n-i][n-i]\n",
    "        for j in range(i+1,n+1):\n",
    "            for k in range(1,n+1):\n",
    "                matI[n-j][n-k] = matI[n-j][n-k] - (A[n-j][n-i]*matI[n-i][n-k])\n",
    "                A[n-j][n-k]= A[n-j][n-k] - (A[n-j][n-i]*A[n-i][n-k])\n",
    "                \n",
    "        #print(matI)\n",
    "    \n",
    "    return matI\n",
    "\n",
    "def InvLower(L):\n",
    "    A=L\n",
    "    n=len(A)\n",
    "    matI=[]\n",
    "    for i in range(len(A)):\n",
    "        matI.append([0,0,0,0,0])\n",
    "        matI[i][i]=1\n",
    "    #print(matI)\n",
    "        \n",
    "    for i in range(0,n):\n",
    "        for j in range(0,n):\n",
    "            matI[i][j] = matI[i][j]/A[i][i]\n",
    "            A[i][j]=A[i][j]/A[i][i]\n",
    "        for j in range(i+1,n):\n",
    "            for k in range(0,n):\n",
    "                matI[j][k] = matI[j][k] - (A[j][i]*matI[i][k])\n",
    "                A[j][k]= A[j][k] - (A[j][i]*A[i][k])\n",
    "                \n",
    "        #print(matI)\n",
    "    \n",
    "    return matI\n",
    "\n",
    "invU=InvUpper(U)\n",
    "#print('>>',invU)\n",
    "\n",
    "invL=InvLower(L)\n",
    "#print('>>',invL)\n",
    "\n",
    "invA = ar.crossmat(invU,invL)\n",
    "for row in invA:\n",
    "    print(row)"
   ]
  },
  {
   "cell_type": "code",
   "execution_count": 3,
   "id": "bbe95a1f",
   "metadata": {},
   "outputs": [
    {
     "data": {
      "image/png": "[encoded data removed]",
      "text/plain": [
       "<Figure size 432x288 with 1 Axes>"
      ]
     },
     "metadata": {
      "needs_background": "light"
     },
     "output_type": "display_data"
    }
   ],
   "source": [
    "#Q2\n",
    "\n",
    "nL=5000\n",
    "nR=0\n",
    "T=10000\n",
    "dT=1\n",
    "            \n",
    "NL,NR,NT=ar.BoxRL(nL,nR,T,dT)\n",
    "\n",
    "plt.plot(NT,NL,'b,',label='No. of particles in Left')\n",
    "plt.plot(NT,NR,'r,',label='No. of particles in Right')\n",
    "plt.xlabel('Time')\n",
    "plt.ylabel('Number of particles')\n",
    "plt.legend()\n",
    "plt.show()"
   ]
  },
  {
   "cell_type": "code",
   "execution_count": 4,
   "id": "38cafc0c",
   "metadata": {},
   "outputs": [
    {
     "name": "stdout",
     "output_type": "stream",
     "text": [
      "NEWTON RAPHSON\n",
      "0 >> start prev root guess: 0 start new root guess: 1\n",
      "3 >>  new root: 0.9585863567297973\n",
      "the solution for x is 9.585864E-01 in 3 iterations.\n",
      "\n",
      " Thus, the max displacement will be when F(x) = 0 which is at x = 0.9585863567297973 m.\n"
     ]
    }
   ],
   "source": [
    "#Q3\n",
    "\n",
    "def f1(x):\n",
    "    y = 2.5 - x*math.exp(x)\n",
    "    return y\n",
    "\n",
    "def fd1(x):\n",
    "    y = -1*(math.exp(x) + x*math.exp(x))\n",
    "    return y\n",
    "\n",
    "x=1\n",
    "e=0.01\n",
    "d=0.000001\n",
    "\n",
    "root=ar.NewtonRaphson(x,e,d,f1,fd1)\n",
    "\n",
    "print('\\n Thus, the max displacement will be when F(x) = 0 which is at x =',root,'m.')"
   ]
  },
  {
   "cell_type": "code",
   "execution_count": 5,
   "id": "33f97fe1",
   "metadata": {},
   "outputs": [
    {
     "name": "stdout",
     "output_type": "stream",
     "text": [
      "For N = 10 the simpson integral of func is 1.952893687236705\n",
      "Thus time period will be 2.495316021423706 s.\n"
     ]
    }
   ],
   "source": [
    "#Q4\n",
    "\n",
    "def funcq4(phi):\n",
    "    a = math.sin(math.pi/8)\n",
    "    y = 1/(math.sqrt(1 - (a**2)*(math.sin(phi)**2)))\n",
    "    return y\n",
    "\n",
    "z=ar.SimpsonInt(0,math.pi/2,10,funcq4)\n",
    "#z=ar.SimpsonInt(x0,xf,N,func)\n",
    "print('For N =',10,'the simpson integral of func is',z)\n",
    "\n",
    "ansq4=4*(math.sqrt(1/9.8))*z\n",
    "\n",
    "print('Thus time period will be', ansq4,'s.')"
   ]
  },
  {
   "cell_type": "code",
   "execution_count": 6,
   "id": "548deebb",
   "metadata": {},
   "outputs": [
    {
     "name": "stdout",
     "output_type": "stream",
     "text": [
      "Max height is 5.0 m.\n",
      "Variation of velocity with height with air resistance involved.\n"
     ]
    },
    {
     "data": {
      "image/png": "[encoded data removed]",
      "text/plain": [
       "<Figure size 432x288 with 1 Axes>"
      ]
     },
     "metadata": {
      "needs_background": "light"
     },
     "output_type": "display_data"
    },
    {
     "name": "stdout",
     "output_type": "stream",
     "text": [
      "Line here is not a fitting of the polynomial. Has been added to aid the eye to track the points.\n"
     ]
    }
   ],
   "source": [
    "#Q5\n",
    "\n",
    "def d2ydt2(t, y, v):\n",
    "    return -1*0.02*v - 10\n",
    "\n",
    "def dydt(t, y, v):\n",
    "    return v\n",
    "\n",
    "y0=0\n",
    "v0=10\n",
    "a0=10\n",
    "#FOR MAX HEIGHT REACHED\n",
    "h_max = (v0**2)/(2*10)\n",
    "\n",
    "print('Max height is',h_max,'m.')\n",
    "\n",
    "print('Variation of velocity with height with air resistance involved.')\n",
    "x0_1, y0_1, z0_1 = ar.RKXY(d2ydt2, dydt, y0, v0, a0, h_max, 0.1, 'yes','Height','Velocity')\n",
    "#RKXY(d2ydx2, dydx, y0, y'0, y\"0, yf, st, yes)"
   ]
  },
  {
   "cell_type": "code",
   "execution_count": 7,
   "id": "f38a6156",
   "metadata": {},
   "outputs": [
    {
     "name": "stdout",
     "output_type": "stream",
     "text": [
      "\n",
      " Guess vector: [[12345], [32422], [19731], [7040]]\n",
      "\n",
      " Matrix A: [[1, -2, 0, 5], [0, 7, 1, 5], [0, 4, 4, 0], [0, 0, 0, 2]] \n",
      " \n",
      " Eignvector: [[-0.1980637257569878], [0.6931674364491371], [0.6930293396282025], [5.383501331959961e-07]] \n",
      " \n",
      " Eigenvalue: 8.00026640291702 \n",
      " \n",
      " in 9 iterations.\n"
     ]
    }
   ],
   "source": [
    "#Q6\n",
    "\n",
    "#matrix A\n",
    "A=[[1,-2,0,5],[0,7,1,5],[0,4,4,0],[0,0,0,2]]\n",
    "\n",
    "#to give a guess vector replace 'random' with a guess vector of form [[1],[1],[1]] or it will take a random guess vector\n",
    "lambda1,v1=ar.EigenPI(A,20,1e-3,'random')"
   ]
  },
  {
   "cell_type": "code",
   "execution_count": 8,
   "id": "33613b82",
   "metadata": {},
   "outputs": [
    {
     "name": "stdout",
     "output_type": "stream",
     "text": [
      "\n",
      " The solved matrix form is system of linear equations is: \n",
      "\n",
      "[26.0, 1.9984014443252818e-15, 37.440000000000005, -1.7763568394002505e-15, 96.85278719999998] ( A 1 ) [-9.216999999999992]\n",
      "[1.9984014443252818e-15, 37.440000000000005, -1.7763568394002505e-15, 96.85278719999998, -1.4210854715202004e-14] ( A 2 ) [-122.42503999999998]\n",
      "[37.440000000000005, -1.7763568394002505e-15, 96.85278719999998, -1.4210854715202004e-14, 297.6805158912] ( A 3 ) [-30.812012800000023]\n",
      "[-1.7763568394002505e-15, 96.85278719999998, -1.4210854715202004e-14, 297.6805158912, 2.842170943040401e-14] ( A 4 ) [-354.52698675199997]\n",
      "[96.85278719999998, -1.4210854715202004e-14, 297.6805158912, 2.842170943040401e-14, 994.2958163802193] ( A 5 ) [-98.29054222335999]\n",
      "\n",
      " ##### \n",
      "\n",
      "\n",
      " System of linear equations after Gauss Jordan Elimination is: \n",
      "\n",
      "[1.0, 0.0, 0.0, 0.0, 0.0] ( X 1 ) [-3.19]\n",
      "[0.0, 1.0, 0.0, 0.0, 0.0] ( X 2 ) [-1.194]\n",
      "[0.0, 0.0, 1.0, 0.0, 0.0] ( X 3 ) [2.334]\n",
      "[0.0, 0.0, 0.0, 1.0, 0.0] ( X 4 ) [-0.803]\n",
      "[0.0, 0.0, 0.0, 0.0, 1.0] ( X 5 ) [-0.583]\n",
      "\n",
      " The answer matrix X is: \n",
      " [[-3.19], [-1.194], [2.334], [-0.803], [-0.583]]\n",
      "\n",
      "\n"
     ]
    },
    {
     "data": {
      "image/png": "[encoded data removed]",
      "text/plain": [
       "<Figure size 432x288 with 1 Axes>"
      ]
     },
     "metadata": {
      "needs_background": "light"
     },
     "output_type": "display_data"
    }
   ],
   "source": [
    "#Q7\n",
    "\n",
    "with open('esem4fit.txt', 'r') as f1:\n",
    "    m = [[float(num) for num in line.split(',')] for line in f1 ]\n",
    "\n",
    "X=[]\n",
    "Y=[]\n",
    "\n",
    "for i in range(0,len(m)):\n",
    "    X.append(m[i][0])\n",
    "    Y.append(m[i][1])\n",
    "\n",
    "ar.PolyFitLS(X,Y,5)"
   ]
  }
 ],
 "metadata": {
  "kernelspec": {
   "display_name": "Python 3 (ipykernel)",
   "language": "python",
   "name": "python3"
  },
  "language_info": {
   "codemirror_mode": {
    "name": "ipython",
    "version": 3
   },
   "file_extension": ".py",
   "mimetype": "text/x-python",
   "name": "python",
   "nbconvert_exporter": "python",
   "pygments_lexer": "ipython3",
   "version": "3.10.6"
  }
 },
 "nbformat": 4,
 "nbformat_minor": 5
}
