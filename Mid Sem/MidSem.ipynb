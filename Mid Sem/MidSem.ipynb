{
 "cells": [
  {
   "cell_type": "code",
   "execution_count": 1,
   "id": "9263e203-2386-4146-841f-d0cacfa6bcb7",
   "metadata": {},
   "outputs": [],
   "source": [
    "import math\n",
    "\n",
    "import toolsar as ar\n",
    "\n",
    "import matplotlib.pyplot as plt"
   ]
  },
  {
   "cell_type": "code",
   "execution_count": 10,
   "id": "eecde532-52f0-4fe4-a96c-a6ebec995ec6",
   "metadata": {},
   "outputs": [
    {
     "name": "stdout",
     "output_type": "stream",
     "text": [
      "The area estimate by throwing method is: 4.0\n"
     ]
    },
    {
     "data": {
      "text/plain": [
       "3"
      ]
     },
     "execution_count": 10,
     "metadata": {},
     "output_type": "execute_result"
    },
    {
     "data": {
      "image/png": "[encoded data removed]",
      "text/plain": [
       "<Figure size 432x288 with 1 Axes>"
      ]
     },
     "metadata": {
      "needs_background": "light"
     },
     "output_type": "display_data"
    }
   ],
   "source": [
    "#Q1 AREA OF ELLIPSE\n",
    "\n",
    "x=0\n",
    "y=0\n",
    "t=0\n",
    "a=4\n",
    "b=2\n",
    "\n",
    "arrx=[]\n",
    "arry=[]\n",
    "\n",
    "r1=10\n",
    "\n",
    "for i in range(0,10000):\n",
    "    r2 = ar.rnumlt1(1103515245,12345,32768,r1)\n",
    "    r1 = ar.rnumlt1(1103515245,12345,32768,r2)\n",
    "    \n",
    "    \n",
    "    x = a*r1/2\n",
    "    y = b*r2/2\n",
    "    \n",
    "    t=t+1\n",
    "    \n",
    "    #after checking via eq of ellipse\n",
    "    rad = (x/a)**2 + (y/b)**2 - 1\n",
    "    \n",
    "    if rad<0:\n",
    "        arrx.append(x)\n",
    "        arry.append(y)\n",
    "\n",
    "\n",
    "area = 4*(len(arrx)/t)\n",
    "\n",
    "plt.scatter(arrx,arry)\n",
    "\n",
    "\n",
    "print('The area estimate by throwing method is:',area)\n",
    "\n",
    "#writing output to a new file\n",
    "o = open(\"output1.txt\", 'w')\n",
    "o.write(\"The area estimate by throwing method is: \\n\")\n",
    "o.write(str(area))"
   ]
  },
  {
   "cell_type": "code",
   "execution_count": 8,
   "id": "141aef89-da93-4045-8fa7-f86064ea6b9d",
   "metadata": {},
   "outputs": [
    {
     "name": "stdout",
     "output_type": "stream",
     "text": [
      "hc/k: 0.014393917451122376\n",
      "the solution for x is 4.965114232334198 in 124 iterations.\n",
      "Weins const is: 2.89901 e-3\n"
     ]
    },
    {
     "data": {
      "text/plain": [
       "3"
      ]
     },
     "execution_count": 8,
     "metadata": {},
     "output_type": "execute_result"
    }
   ],
   "source": [
    "#Q2 NEWTON RAPHSON\n",
    "\n",
    "def fq2(x):\n",
    "    y = (x-5)*math.exp(x) +5\n",
    "    return y\n",
    "\n",
    "def fdq2(x):\n",
    "    y = (x-4)*math.exp(x)\n",
    "    return y\n",
    "\n",
    "x=1\n",
    "e=0.0001\n",
    "d=0.0001\n",
    "\n",
    "constant = ((6.626 * 10**(-34))*(3 * 10**8))/(1.381 * 10**(-23))\n",
    "\n",
    "print('hc/k:',constant)\n",
    "\n",
    "ans=ar.NewtonRaphson(120,e,d,fq2,fdq2)\n",
    "\n",
    "print('Weins const is:', round(constant* 10**3 /ans,5),'e-3')\n",
    "\n",
    "o1=round(constant* 10**3 /ans,5)\n",
    "\n",
    "#writing output to a new file\n",
    "o = open(\"output2.txt\", 'w')\n",
    "o.write(\"Weins const is: \\n\")\n",
    "o.write(str(o1))\n",
    "o.write(\"e-3\")"
   ]
  },
  {
   "cell_type": "code",
   "execution_count": 11,
   "id": "ef0d9e56-4970-4932-9ed9-d70038fa7031",
   "metadata": {},
   "outputs": [
    {
     "name": "stdout",
     "output_type": "stream",
     "text": [
      "\n",
      " Given system of linear equations is: \n",
      "\n",
      "[-2.0, 0.0, 0.0, -1.0, 0.0, 0.5] ( X 1 ) -1.0\n",
      "[0.0, 4.0, 0.5, 0.0, 1.0, 0.0] ( X 2 ) 0.0\n",
      "[0.0, 0.5, 1.5, 0.0, 0.0, 0.0] ( X 3 ) 2.75\n",
      "[-1.0, 0.0, 0.0, -2.0, 0.0, 1.0] ( X 4 ) 2.5\n",
      "[0.0, 1.0, 0.0, 0.0, -2.5, 0.0] ( X 5 ) -3.0\n",
      "[0.5, 0.0, 0.0, 1.0, 0.0, -3.75] ( X 6 ) 2.0\n",
      "\n",
      " ##### \n",
      "\n",
      "\n",
      " Guess: \n",
      " [10, 10, 10, 10, 10, 10]\n",
      "\n",
      " The answer is: \n",
      " [1.4999996435224887, -0.49999999999999967, 2.0, -2.4999998217380934, 1.0000000000000002, -0.9999999999938265] \n",
      " after 14 iterations.\n",
      "\n",
      " ##### \n",
      "\n"
     ]
    },
    {
     "data": {
      "text/plain": [
       "4"
      ]
     },
     "execution_count": 11,
     "metadata": {},
     "output_type": "execute_result"
    }
   ],
   "source": [
    "#Q3 GAUSS SEIDEL\n",
    "\n",
    "#CHANGED FORMAT TO READ IT AS PER MY ARRAY READING CODE\n",
    "#LAST LINE OF THE TEXT FILE IS NOW THE VECTOR B\n",
    "with open('msem_gs.txt', 'r') as f0:\n",
    "    lq3 = [[float(num) for num in line.split(',')] for line in f0 ]\n",
    "    \n",
    "\n",
    "\n",
    "k1q3=lq3[len(lq3)-1]\n",
    "\n",
    "\n",
    "lq3.pop()\n",
    "\n",
    "\n",
    "\n",
    "ar.printeq(lq3,k1q3,'X','Given')\n",
    "\n",
    "ar.printhash()\n",
    "\n",
    "\n",
    "x= [10]*len(lq3)\n",
    "\n",
    "print(\"\\n Guess: \\n\",x)\n",
    "\n",
    "\n",
    "ans3=ar.GaussSeidel(lq3,x,k1q3,100,0.000001)\n",
    "\n",
    "ar.printhash()"
   ]
  },
  {
   "cell_type": "code",
   "execution_count": 5,
   "id": "0dc379b1-e156-4ed4-b17a-3937a2199733",
   "metadata": {},
   "outputs": [
    {
     "name": "stdout",
     "output_type": "stream",
     "text": [
      "Plot of x vs y\n"
     ]
    },
    {
     "data": {
      "image/png": "[encoded data removed]",
      "text/plain": [
       "<Figure size 432x288 with 1 Axes>"
      ]
     },
     "metadata": {
      "needs_background": "light"
     },
     "output_type": "display_data"
    },
    {
     "name": "stdout",
     "output_type": "stream",
     "text": [
      "\n",
      " ##### \n",
      "\n"
     ]
    },
    {
     "data": {
      "image/png": "[encoded data removed]",
      "text/plain": [
       "<Figure size 432x288 with 1 Axes>"
      ]
     },
     "metadata": {
      "needs_background": "light"
     },
     "output_type": "display_data"
    },
    {
     "name": "stdout",
     "output_type": "stream",
     "text": [
      "Slope: -0.53740930145056\n",
      "Y Intercept: 3.046727251028102\n",
      "R^2: 0.9945183457900386\n",
      "A in Power Law is: 21.046352159550032\n",
      "B in Power Law is: -0.53740930145056\n",
      "\n",
      " ##### \n",
      "\n"
     ]
    },
    {
     "data": {
      "image/png": "[encoded data removed]",
      "text/plain": [
       "<Figure size 432x288 with 1 Axes>"
      ]
     },
     "metadata": {
      "needs_background": "light"
     },
     "output_type": "display_data"
    },
    {
     "name": "stdout",
     "output_type": "stream",
     "text": [
      "Slope: -0.05845553447818332\n",
      "Y Intercept: 2.502500370664687\n",
      "R^2: 0.9017917512937711\n",
      "A in Power Law is: 12.212992824568264\n",
      "B in Power Law is: 0.05845553447818332\n",
      "\n",
      " Since r^2 is closer to 1 for Power Law, it is a better fit.\n"
     ]
    }
   ],
   "source": [
    "#Q4 EXPONENTIAL FITING\n",
    "\n",
    "from decimal import Decimal\n",
    "\n",
    "with open('msem_fit.txt', 'r') as f1:\n",
    "    m = [[float(num) for num in line.split(',')] for line in f1 ]\n",
    "\n",
    "xq4=[]\n",
    "\n",
    "yq4=[]\n",
    "\n",
    "for i in range(0,len(m)):\n",
    "    xq4.append(m[i][0])\n",
    "    yq4.append(m[i][1])\n",
    "    \n",
    "print('Plot of x vs y')\n",
    "\n",
    "plt.scatter(xq4,yq4)\n",
    "plt.show()\n",
    "\n",
    "ar.printhash()\n",
    "#taking log on both sides we can solve it in a linear fit\n",
    "xq44=[]\n",
    "yq44=[]\n",
    "\n",
    "for i in range(0,len(xq4)):\n",
    "    xq44.append(float(math.log(Decimal(xq4[i]))))\n",
    "    yq44.append(float(math.log(Decimal(yq4[i]))))\n",
    "\n",
    "#POWER LAW\n",
    "# y' = a' + b*x'\n",
    "  \n",
    "m1,c1,r1=ar.LinearFit(xq44,yq44)\n",
    "\n",
    "print('A in Power Law is:', math.exp(c1))\n",
    "print('B in Power Law is:', m1)\n",
    "\n",
    "\n",
    "ar.printhash()\n",
    "#EXP MODEL\n",
    "# y' = a' - b*x\n",
    "  \n",
    "m2,c2,r2=ar.LinearFit(xq4,yq44)\n",
    "\n",
    "print('A in Power Law is:', math.exp(c2))\n",
    "print('B in Power Law is:', -m2)\n",
    "\n",
    "print('\\n Since r^2 is closer to 1 for Power Law, it is a better fit.')"
   ]
  }
 ],
 "metadata": {
  "kernelspec": {
   "display_name": "Python 3 (ipykernel)",
   "language": "python",
   "name": "python3"
  },
  "language_info": {
   "codemirror_mode": {
    "name": "ipython",
    "version": 3
   },
   "file_extension": ".py",
   "mimetype": "text/x-python",
   "name": "python",
   "nbconvert_exporter": "python",
   "pygments_lexer": "ipython3",
   "version": "3.10.6"
  }
 },
 "nbformat": 4,
 "nbformat_minor": 5
}
